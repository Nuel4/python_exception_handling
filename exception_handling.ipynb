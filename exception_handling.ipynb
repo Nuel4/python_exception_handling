{
 "cells": [
  {
   "cell_type": "code",
   "execution_count": 7,
   "metadata": {},
   "outputs": [
    {
     "name": "stdout",
     "output_type": "stream",
     "text": [
      "2.0\n",
      "everythin is correct\n"
     ]
    }
   ],
   "source": [
    "a = 4\n",
    "b = 0\n",
    "d = 2\n",
    "try:\n",
    "    c =a / d\n",
    "    print(c)\n",
    "    print('everythin is correct')\n",
    "except:\n",
    "    print('zero is not accepted to divid a number')"
   ]
  },
  {
   "cell_type": "code",
   "execution_count": 5,
   "metadata": {},
   "outputs": [
    {
     "name": "stdout",
     "output_type": "stream",
     "text": [
      "enter a value:h\n",
      "only integers are allowed \n",
      "everything is good\n"
     ]
    }
   ],
   "source": [
    "f =4\n",
    "j =0\n",
    "\n",
    "try:\n",
    "    p=int(input('enter a value:'))\n",
    "    print(p)\n",
    "    \n",
    "    \n",
    "except Exception as e:\n",
    "    print('only integers are allowed ')\n",
    "    \n",
    "finally:\n",
    "    print('everything is good')"
   ]
  },
  {
   "cell_type": "code",
   "execution_count": null,
   "metadata": {},
   "outputs": [],
   "source": []
  }
 ],
 "metadata": {
  "kernelspec": {
   "display_name": "Python 3",
   "language": "python",
   "name": "python3"
  },
  "language_info": {
   "codemirror_mode": {
    "name": "ipython",
    "version": 3
   },
   "file_extension": ".py",
   "mimetype": "text/x-python",
   "name": "python",
   "nbconvert_exporter": "python",
   "pygments_lexer": "ipython3",
   "version": "3.7.3"
  }
 },
 "nbformat": 4,
 "nbformat_minor": 2
}
