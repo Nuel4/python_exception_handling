{
 "cells": [
  {
   "cell_type": "code",
   "execution_count": 5,
   "metadata": {},
   "outputs": [],
   "source": [
    "def dg():\n",
    "    \n",
    "    try:\n",
    "        s = 'syrr'\n",
    "        #b = 'np'\n",
    "        #print(s+b)\n",
    "        print(s -5)\n",
    "        \n",
    "        \n",
    "    except:\n",
    "        print('you can not subtract a an integer from a string')\n",
    "        \n",
    "    finally :\n",
    "        print('ok,bye')"
   ]
  },
  {
   "cell_type": "code",
   "execution_count": 6,
   "metadata": {},
   "outputs": [
    {
     "name": "stdout",
     "output_type": "stream",
     "text": [
      "you can not subtract a an integer from a string\n",
      "ok,bye\n"
     ]
    }
   ],
   "source": [
    "dg()"
   ]
  },
  {
   "cell_type": "code",
   "execution_count": null,
   "metadata": {},
   "outputs": [],
   "source": []
  }
 ],
 "metadata": {
  "kernelspec": {
   "display_name": "Python 3",
   "language": "python",
   "name": "python3"
  },
  "language_info": {
   "codemirror_mode": {
    "name": "ipython",
    "version": 3
   },
   "file_extension": ".py",
   "mimetype": "text/x-python",
   "name": "python",
   "nbconvert_exporter": "python",
   "pygments_lexer": "ipython3",
   "version": "3.7.3"
  }
 },
 "nbformat": 4,
 "nbformat_minor": 2
}
